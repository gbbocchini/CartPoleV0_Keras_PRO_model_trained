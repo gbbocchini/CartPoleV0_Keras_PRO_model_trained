{
 "cells": [
  {
   "cell_type": "code",
   "execution_count": 1,
   "metadata": {
    "scrolled": true
   },
   "outputs": [
    {
     "name": "stderr",
     "output_type": "stream",
     "text": [
      "Using TensorFlow backend.\n"
     ]
    }
   ],
   "source": [
    "import gym\n",
    "import numpy as np\n",
    "import random\n",
    "from keras.models import Sequential\n",
    "from keras.layers import Dense, Dropout\n",
    "from keras.optimizers import Adam\n",
    "from datetime import datetime\n",
    "from keras.models import load_model"
   ]
  },
  {
   "cell_type": "code",
   "execution_count": 149,
   "metadata": {},
   "outputs": [
    {
     "name": "stdout",
     "output_type": "stream",
     "text": [
      "elapsed:  0:00:08.947788\n",
      "Average Score:  89.625\n",
      "Median Score:  87.0\n"
     ]
    }
   ],
   "source": [
    "# gathering data for model training: \n",
    "# Each step can be: left or right (0,1). Score is 1 for every move the pole stays balanced in the cart.\n",
    "# All steps will be random (0 or 1) until the pole falls.  \n",
    "# For training purposes, only episodes (games) with final score >= than 80 will be considered.\n",
    "\n",
    "\n",
    "# seting number of top movements (steps) in each game (episode). \n",
    "num_steps = 1000\n",
    "num_episodes = 50000\n",
    "cut_score = 80\n",
    "\n",
    "env = gym.make('CartPole-v0')\n",
    "# env = gym.wrappers.Monitor(env, 'temp') - record some games (not all). FFMPEG needed.\n",
    "scores = []\n",
    "X_train = []\n",
    "y_train = []\n",
    "#games loop\n",
    "x = datetime.now()  \n",
    "for i_episode in range(num_episodes):\n",
    "    observation = env.reset()\n",
    "    score = 0\n",
    "    train_sampleX = []\n",
    "    train_sampley = []\n",
    "    #steps loop, each action ramdomically. \"one hot encoder\" with np.zeros\n",
    "    for step in range(num_steps):\n",
    "        action = random.randrange(0,2)\n",
    "        one_hot_action = np.zeros(2)\n",
    "        one_hot_action[action] = 1\n",
    "        train_sampleX.append(observation)\n",
    "        train_sampley.append(one_hot_action)\n",
    "        \n",
    "        observation, reward, done, info = env.step(action)\n",
    "        score += reward   \n",
    "        \n",
    "        if done == True:\n",
    "                break  \n",
    "    # rules           \n",
    "    if score >= cut_score:\n",
    "        scores.append(score)\n",
    "        X_train += train_sampleX\n",
    "        y_train += train_sampley\n",
    "    else:\n",
    "        pass\n",
    "y = datetime.now()\n",
    "X_train, y_train = np.array(X_train), np.array(y_train)\n",
    "\n",
    "print(\"elapsed: \", y-x)    \n",
    "print(\"Average Score: \", np.mean(scores))\n",
    "print(\"Median Score: \", np.median(scores))"
   ]
  },
  {
   "cell_type": "code",
   "execution_count": 150,
   "metadata": {},
   "outputs": [
    {
     "data": {
      "text/plain": [
       "(12906, 4)"
      ]
     },
     "execution_count": 150,
     "metadata": {},
     "output_type": "execute_result"
    }
   ],
   "source": [
    "X_train.shape"
   ]
  },
  {
   "cell_type": "code",
   "execution_count": 151,
   "metadata": {},
   "outputs": [
    {
     "data": {
      "text/plain": [
       "(12906, 2)"
      ]
     },
     "execution_count": 151,
     "metadata": {},
     "output_type": "execute_result"
    }
   ],
   "source": [
    "y_train.shape"
   ]
  },
  {
   "cell_type": "code",
   "execution_count": 142,
   "metadata": {},
   "outputs": [],
   "source": [
    "# Build a model. \n",
    "\n",
    "model = Sequential()\n",
    "\n",
    "model.add(Dense(16, input_shape=(4,), activation='relu'))\n",
    "model.add(Dropout(0.01))\n",
    "\n",
    "model.add(Dense(32, activation='relu'))\n",
    "model.add(Dropout(0.01))\n",
    "\n",
    "model.add(Dense(8, activation='relu'))\n",
    "model.add(Dropout(0.01))\n",
    "\n",
    "model.add(Dense(4, activation='relu'))\n",
    "\n",
    "model.add(Dense(2, activation='softmax'))\n",
    "\n",
    "model.compile(loss='binary_crossentropy', optimizer='adam', metrics=['accuracy'])"
   ]
  },
  {
   "cell_type": "code",
   "execution_count": null,
   "metadata": {},
   "outputs": [],
   "source": [
    "# train it yourself! lol epochs up to you.\n",
    "\n",
    "model.fit(X_train,y_train, epochs=, batch_size=80, shuffle=True)"
   ]
  },
  {
   "cell_type": "code",
   "execution_count": 141,
   "metadata": {
    "scrolled": true
   },
   "outputs": [
    {
     "name": "stdout",
     "output_type": "stream",
     "text": [
      "Elapsed:  0:00:07.741192\n",
      "Average score:  200.0\n",
      "Median Score:  200.0\n"
     ]
    }
   ],
   "source": [
    "# Model plays the game\n",
    "\n",
    "num_steps = 500\n",
    "num_episodes = 50\n",
    "scores = []\n",
    "\n",
    "env = gym.make('CartPole-v0')\n",
    "\n",
    "x1 = datetime.now()  \n",
    "for i_episodes in range(num_episodes):\n",
    "    score = 0\n",
    "    observation = env.reset()\n",
    "\n",
    "    for step in range(num_steps):\n",
    "#         env.render()\n",
    "        action = np.argmax(model.predict(observation.reshape(1,4)))\n",
    "            \n",
    "        observation, reward, done, info = env.step(action)\n",
    "        score+=reward\n",
    "        \n",
    "        if done == True:\n",
    "            break\n",
    "    scores.append(score)\n",
    "env.close()   \n",
    "y1 = datetime.now()\n",
    "\n",
    "print(\"Elapsed: \", y1-x1)    \n",
    "print(\"Average score: \", np.mean(scores))\n",
    "print(\"Median Score: \", np.median(scores))"
   ]
  },
  {
   "cell_type": "code",
   "execution_count": null,
   "metadata": {},
   "outputs": [],
   "source": [
    "# to load the Pro Model in the repo! 200 scores (top)"
   ]
  },
  {
   "cell_type": "code",
   "execution_count": 146,
   "metadata": {},
   "outputs": [],
   "source": [
    "model = load_model('cartpolePro.h5')"
   ]
  }
 ],
 "metadata": {
  "kernelspec": {
   "display_name": "Python 3",
   "language": "python",
   "name": "python3"
  },
  "language_info": {
   "codemirror_mode": {
    "name": "ipython",
    "version": 3
   },
   "file_extension": ".py",
   "mimetype": "text/x-python",
   "name": "python",
   "nbconvert_exporter": "python",
   "pygments_lexer": "ipython3",
   "version": "3.7.2"
  }
 },
 "nbformat": 4,
 "nbformat_minor": 2
}
